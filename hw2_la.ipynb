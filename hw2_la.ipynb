{
 "cells": [
  {
   "cell_type": "code",
   "execution_count": 52,
   "metadata": {},
   "outputs": [],
   "source": [
    "import numpy as np"
   ]
  },
  {
   "cell_type": "markdown",
   "metadata": {
    "colab_type": "text",
    "id": "VAmOu--LIILw"
   },
   "source": [
    "## Практическое задание 3"
   ]
  },
  {
   "cell_type": "markdown",
   "metadata": {
    "colab_type": "text",
    "id": "APeDlmh8IIL1"
   },
   "source": [
    "Все задания рекомендуется делать вручную, затем проверяя полученные результаты с использованием numpy.\n",
    "\n",
    "__1.__ Установить, какие произведения матриц $AB$ и $BA$ определены, и найти размерности полученных матриц:\n",
    "\n",
    "   а) $A$ — матрица $4\\times 2$, $B$ — матрица $4\\times 2$;"
   ]
  },
  {
   "cell_type": "markdown",
   "metadata": {},
   "source": [
    "произведение неопределено, так как число стоблцов матрицы $A$ не равно числу строк матрицы $B$"
   ]
  },
  {
   "cell_type": "markdown",
   "metadata": {},
   "source": [
    "б) $A$ — матрица $2\\times 5$, $B$ — матрица $5\\times 3$;"
   ]
  },
  {
   "cell_type": "markdown",
   "metadata": {},
   "source": [
    "произведение определено, так как число стоблцов матрицы $A$ равно числу строк матрицы $B$. Размерность полученной матрицы $2\\times 3$"
   ]
  },
  {
   "cell_type": "markdown",
   "metadata": {},
   "source": [
    "в) $A$ — матрица $8\\times 3$, $B$ — матрица $3\\times 8$;"
   ]
  },
  {
   "cell_type": "markdown",
   "metadata": {},
   "source": [
    "произведение определено, так как число стоблцов матрицы $A$ равно числу строк матрицы $B$. Размерность полученной матрицы $8\\times 8$"
   ]
  },
  {
   "cell_type": "markdown",
   "metadata": {},
   "source": [
    "г) $A$ — квадратная матрица $4\\times 4$, $B$ — квадратная матрица $4\\times 4$."
   ]
  },
  {
   "cell_type": "markdown",
   "metadata": {},
   "source": [
    "произведение определено, так как число стоблцов матрицы $A$ равно числу строк матрицы $B$. Размерность полученной матрицы $4\\times 4$"
   ]
  },
  {
   "cell_type": "markdown",
   "metadata": {},
   "source": [
    "__2.__ Найти сумму и произведение матриц $A=\\begin{pmatrix}\n",
    "1 & -2\\\\ \n",
    "3 & 0\n",
    "\\end{pmatrix}$ и $B=\\begin{pmatrix}\n",
    "4 & -1\\\\ \n",
    "0 & 5\n",
    "\\end{pmatrix}.$"
   ]
  },
  {
   "cell_type": "markdown",
   "metadata": {},
   "source": [
    "$$\\begin{pmatrix}\n",
    "1 & -2\\\\ \n",
    "3 & 0\n",
    "\\end{pmatrix}+\\begin{pmatrix}\n",
    "4 & -1\\\\ \n",
    "0 & 5\n",
    "\\end{pmatrix}=\\begin{pmatrix}\n",
    "1+4 & -2-1\\\\ \n",
    "3+0 & 0+5\n",
    "\\end{pmatrix}=\\begin{pmatrix}\n",
    "5 & -3\\\\ \n",
    "3 & 5\n",
    "\\end{pmatrix}$$"
   ]
  },
  {
   "cell_type": "code",
   "execution_count": 3,
   "metadata": {},
   "outputs": [
    {
     "data": {
      "text/plain": [
       "array([[ 5, -3],\n",
       "       [ 3,  5]])"
      ]
     },
     "execution_count": 3,
     "metadata": {},
     "output_type": "execute_result"
    }
   ],
   "source": [
    "A = np.array([[1, -2], \n",
    "              [3, 0]])\n",
    "B = np.array([[4, -1], \n",
    "              [0, 5]])\n",
    "A+B"
   ]
  },
  {
   "cell_type": "markdown",
   "metadata": {},
   "source": [
    "$$\\begin{pmatrix}\n",
    "1 & -2\\\\ \n",
    "3 & 0\n",
    "\\end{pmatrix}\\cdot\\begin{pmatrix}\n",
    "4 & -1\\\\ \n",
    "0 & 5\n",
    "\\end{pmatrix}=\\begin{pmatrix}\n",
    "1\\cdot4+(-2)\\cdot0 & 1\\cdot(-1)+(-2)\\cdot5\\\\ \n",
    "3\\cdot4+0\\cdot0 & 3\\cdot(-1)+0\\cdot5\n",
    "\\end{pmatrix}=\\begin{pmatrix}\n",
    "4 & -11\\\\ \n",
    "12 & -3\n",
    "\\end{pmatrix}$$"
   ]
  },
  {
   "cell_type": "code",
   "execution_count": 5,
   "metadata": {},
   "outputs": [
    {
     "data": {
      "text/plain": [
       "array([[  4, -11],\n",
       "       [ 12,  -3]])"
      ]
     },
     "execution_count": 5,
     "metadata": {},
     "output_type": "execute_result"
    }
   ],
   "source": [
    "A@B"
   ]
  },
  {
   "cell_type": "markdown",
   "metadata": {},
   "source": [
    " __3.__ Из закономерностей сложения и умножения матриц на число можно сделать вывод, что матрицы одного размера образуют линейное пространство. Вычислить линейную комбинацию $3A-2B+4C$ для матриц $A=\\begin{pmatrix}\n",
    "1 & 7\\\\ \n",
    "3 & -6\n",
    "\\end{pmatrix}$, $B=\\begin{pmatrix}\n",
    "0 & 5\\\\ \n",
    "2 & -1\n",
    "\\end{pmatrix}$, $C=\\begin{pmatrix}\n",
    "2 & -4\\\\ \n",
    "1 & 1\n",
    "\\end{pmatrix}.$"
   ]
  },
  {
   "cell_type": "markdown",
   "metadata": {},
   "source": [
    "$$\\begin{pmatrix}\n",
    "3\\cdot1+(-2)\\cdot0+4\\cdot2 & 3\\cdot7+(-2)\\cdot5+4\\cdot(-4)\\\\ \n",
    "3\\cdot3+(-2)\\cdot2+4\\cdot1 & 3\\cdot(-6)+(-2)\\cdot(-1)+4\\cdot1\n",
    "\\end{pmatrix}=\\begin{pmatrix}\n",
    "11 & -5\\\\ \n",
    "9 & -12\n",
    "\\end{pmatrix}\n",
    "$$"
   ]
  },
  {
   "cell_type": "code",
   "execution_count": 12,
   "metadata": {},
   "outputs": [
    {
     "data": {
      "text/plain": [
       "array([[ 11,  -5],\n",
       "       [  9, -12]])"
      ]
     },
     "execution_count": 12,
     "metadata": {},
     "output_type": "execute_result"
    }
   ],
   "source": [
    "A = np.array([[1, 7], \n",
    "              [3, -6]])\n",
    "B = np.array([[0, 5], \n",
    "              [2, -1]])\n",
    "C = np.array([[2, -4], \n",
    "              [1, 1]])\n",
    "3*A-2*B+4*C"
   ]
  },
  {
   "cell_type": "markdown",
   "metadata": {},
   "source": [
    "__4.__ Дана матрица $A=\\begin{pmatrix}\n",
    "4 & 1\\\\ \n",
    "5 & -2\\\\ \n",
    "2 & 3\n",
    "\\end{pmatrix}$.\n",
    "Вычислить $AA^{T}$ и $A^{T}A$."
   ]
  },
  {
   "cell_type": "markdown",
   "metadata": {},
   "source": [
    "$$A^{T}=\\begin{pmatrix}\n",
    "4 & 5 & 2\\\\ \n",
    "1 & -2 & 3\\\\\n",
    "\\end{pmatrix}$$"
   ]
  },
  {
   "cell_type": "markdown",
   "metadata": {},
   "source": [
    "$$\\begin{pmatrix}\n",
    "4 & 1\\\\ \n",
    "5 & -2\\\\ \n",
    "2 & 3\n",
    "\\end{pmatrix}\\cdot\\begin{pmatrix}\n",
    "4 & 5 & 2\\\\ \n",
    "1 & -2 & 3\\\\\n",
    "\\end{pmatrix}=\\begin{pmatrix}\n",
    "4\\cdot4+1\\cdot1 & 4\\cdot5+1\\cdot(-2) & 4\\cdot2+1\\cdot3\\\\ \n",
    "5\\cdot4+(-2)\\cdot1 & 5\\cdot5+(-2)\\cdot(-2) & 5\\cdot2+(-2)\\cdot3\\\\\n",
    "2\\cdot4+3\\cdot1 & 2\\cdot5+3\\cdot(-2) & 2\\cdot2+3\\cdot3\\\\\n",
    "\\end{pmatrix}=\\begin{pmatrix}\n",
    "17 & 18 & 11\\\\ \n",
    "18 & 29 & 4\\\\\n",
    "11 & 4 & 13\\\\\n",
    "\\end{pmatrix}$$"
   ]
  },
  {
   "cell_type": "code",
   "execution_count": 14,
   "metadata": {},
   "outputs": [
    {
     "data": {
      "text/plain": [
       "array([[17, 18, 11],\n",
       "       [18, 29,  4],\n",
       "       [11,  4, 13]])"
      ]
     },
     "execution_count": 14,
     "metadata": {},
     "output_type": "execute_result"
    }
   ],
   "source": [
    "A = np.array([[4, 1], \n",
    "              [5, -2], \n",
    "              [2, 3]])\n",
    "A@A.T"
   ]
  },
  {
   "cell_type": "markdown",
   "metadata": {},
   "source": [
    "$$\\begin{pmatrix}\n",
    "4 & 5 & 2\\\\ \n",
    "1 & -2 & 3\\\\\n",
    "\\end{pmatrix}\\cdot\\begin{pmatrix}\n",
    "4 & 1\\\\ \n",
    "5 & -2\\\\ \n",
    "2 & 3\n",
    "\\end{pmatrix}=\\begin{pmatrix}\n",
    "4\\cdot4+5\\cdot5+2\\cdot2 & 4\\cdot1+5\\cdot(-2)+2\\cdot3\\\\ \n",
    "1\\cdot4+(-2)\\cdot5+3\\cdot2 & 1\\cdot1+(-2)\\cdot(-2)+3\\cdot3\\\\\n",
    "\\end{pmatrix}=\\begin{pmatrix}\n",
    "45 & 0\\\\ \n",
    "0 & 14\\\\\n",
    "\\end{pmatrix}$$"
   ]
  },
  {
   "cell_type": "code",
   "execution_count": 15,
   "metadata": {},
   "outputs": [
    {
     "data": {
      "text/plain": [
       "array([[45,  0],\n",
       "       [ 0, 14]])"
      ]
     },
     "execution_count": 15,
     "metadata": {},
     "output_type": "execute_result"
    }
   ],
   "source": [
    "A.T@A"
   ]
  },
  {
   "cell_type": "markdown",
   "metadata": {},
   "source": [
    "__5*.__ Написать на Python функцию для перемножения двух произвольных матриц, не используя NumPy."
   ]
  },
  {
   "cell_type": "code",
   "execution_count": 37,
   "metadata": {},
   "outputs": [],
   "source": [
    "def prod(A, B):\n",
    "    shape_A=A.shape\n",
    "    shape_B=B.shape\n",
    "    if shape_A[1] != shape_B[0]:\n",
    "        print('произведение матриц неопределено!')\n",
    "        return\n",
    "    \n",
    "    C = []\n",
    "    for i in range(shape_A[0]):        \n",
    "        C_row = []\n",
    "        for k in range(shape_B[1]):\n",
    "            spam = 0\n",
    "            for j in range(shape_A[1]):\n",
    "                spam += A[i][j] * B[j][k]\n",
    "            C_row.append(spam)\n",
    "        C.append(C_row)\n",
    "    return C"
   ]
  },
  {
   "cell_type": "code",
   "execution_count": 42,
   "metadata": {},
   "outputs": [
    {
     "name": "stdout",
     "output_type": "stream",
     "text": [
      "[[45, 0], [0, 14]]\n"
     ]
    }
   ],
   "source": [
    "print(prod(A.T, A))"
   ]
  },
  {
   "cell_type": "markdown",
   "metadata": {
    "colab_type": "text",
    "id": "NRcOh0gsWtUo"
   },
   "source": [
    "## Практическое задание 4"
   ]
  },
  {
   "cell_type": "markdown",
   "metadata": {
    "colab_type": "text",
    "id": "H3qXQfJ-WtUp"
   },
   "source": [
    "Все задания рекомендуется выполнять вручную, затем проверяя полученные результаты с использованием Numpy.\n",
    "\n",
    "__1.__ Вычислить определитель:\n",
    "\n",
    "   a)\n",
    "\n",
    "$$\\begin{vmatrix}\n",
    "sinx & -cosx\\\\ \n",
    "cosx & sinx\n",
    "\\end{vmatrix};$$"
   ]
  },
  {
   "cell_type": "markdown",
   "metadata": {},
   "source": [
    "$$\\begin{vmatrix}\n",
    "sinx & -cosx\\\\ \n",
    "cosx & sinx\n",
    "\\end{vmatrix}=\n",
    "sin^{2}x+cos^{2}x=1$$"
   ]
  },
  {
   "cell_type": "code",
   "execution_count": 57,
   "metadata": {},
   "outputs": [
    {
     "data": {
      "text/plain": [
       "1.0"
      ]
     },
     "execution_count": 57,
     "metadata": {},
     "output_type": "execute_result"
    }
   ],
   "source": [
    "x = 1\n",
    "np.linalg.det([[np.sin(x), -np.cos(x)], \n",
    "               [np.cos(x), np.sin(x)]])"
   ]
  },
  {
   "cell_type": "markdown",
   "metadata": {},
   "source": [
    "   б)\n",
    "    \n",
    "$$\\begin{vmatrix}\n",
    "4 & 2 & 3\\\\ \n",
    "0 & 5 & 1\\\\ \n",
    "0 & 0 & 9\n",
    "\\end{vmatrix};$$"
   ]
  },
  {
   "cell_type": "markdown",
   "metadata": {},
   "source": [
    "разложим матрицу по первому столбцу:\n",
    "$$\\begin{vmatrix}\n",
    "4 & 2 & 3\\\\ \n",
    "0 & 5 & 1\\\\ \n",
    "0 & 0 & 9\n",
    "\\end{vmatrix}=4\\cdot(-1)^{(1+1)}\\cdot\\begin{vmatrix}\n",
    "5 & 1 \\\\\n",
    "0 & 9 \\\\\n",
    "\\end{vmatrix}=4\\cdot(5\\cdot9-1\\cdot0)=180$$"
   ]
  },
  {
   "cell_type": "code",
   "execution_count": 59,
   "metadata": {},
   "outputs": [
    {
     "data": {
      "text/plain": [
       "180.0"
      ]
     },
     "execution_count": 59,
     "metadata": {},
     "output_type": "execute_result"
    }
   ],
   "source": [
    "np.linalg.det([[4, 2, 3],\n",
    "               [0, 5, 1],\n",
    "               [0, 0, 9]])"
   ]
  },
  {
   "cell_type": "markdown",
   "metadata": {},
   "source": [
    "   в)\n",
    "\n",
    "$$\\begin{vmatrix}\n",
    "1 & 2 & 3\\\\ \n",
    "4 & 5 & 6\\\\ \n",
    "7 & 8 & 9\n",
    "\\end{vmatrix}.$$"
   ]
  },
  {
   "cell_type": "markdown",
   "metadata": {},
   "source": [
    "Так как при прибавлении к строке другой строки, умноженной на число, определитель не меняется, мы можем осуществить некоторые преобразования для обнуления максимального количества элементов:\n",
    "\n",
    "- преобразуем третью строку, вычтя из второй, умноженной на 2, первую.\n",
    "\n",
    "Получим:\n",
    "\n",
    "$$\\begin{vmatrix}\n",
    "1 & 2 & 3\\\\ \n",
    "4 & 5 & 6\\\\ \n",
    "7 & 8 & 9\n",
    "\\end{vmatrix}=\\begin{vmatrix}\n",
    "0 & 0 & 0\\\\ \n",
    "4 & 5 & 6\\\\ \n",
    "7 & 8 & 9\n",
    "\\end{vmatrix}=0\\cdot(-1)^{(1+1)}\\cdot\\begin{vmatrix}\n",
    "5 & 6 \\\\\n",
    "8 & 9 \\\\\n",
    "\\end{vmatrix}+0\\cdot(-1)^{(1+2)}\\cdot\\begin{vmatrix}\n",
    "4 & 6 \\\\\n",
    "7 & 9 \\\\\n",
    "\\end{vmatrix}+0\\cdot(-1)^{(1+3)}\\cdot\\begin{vmatrix}\n",
    "4 & 5 \\\\\n",
    "7 & 8 \\\\\n",
    "\\end{vmatrix}=0\n",
    "$$"
   ]
  },
  {
   "cell_type": "code",
   "execution_count": 60,
   "metadata": {},
   "outputs": [
    {
     "data": {
      "text/plain": [
       "-9.51619735392994e-16"
      ]
     },
     "execution_count": 60,
     "metadata": {},
     "output_type": "execute_result"
    }
   ],
   "source": [
    "np.linalg.det([[1, 2, 3],\n",
    "               [4, 5, 6],\n",
    "               [7, 8, 9]])"
   ]
  },
  {
   "cell_type": "markdown",
   "metadata": {},
   "source": [
    "__2.__ Определитель матрицы $A$ равен $4$. Найти:\n",
    "\n",
    "   а) $det(A^{2})$; используя свойство определителя получим, что $det(A\\cdot A)=det(A)\\cdot det(A)=16$\n",
    "    \n",
    "   б) $det(A^{T})$; используя свойство определителя получим, что $det(A^{T})=det(A)=4$\n",
    "    \n",
    "   в) $det(2A)$. используя свойство определителя получим, что $det(2\\cdot A)=8$"
   ]
  },
  {
   "cell_type": "markdown",
   "metadata": {},
   "source": [
    "__3.__  Доказать, что матрица\n",
    "\n",
    "$$\\begin{pmatrix}\n",
    "-2 & 7 & -3\\\\ \n",
    "4 & -14 & 6\\\\ \n",
    "-3 & 7 & 13\n",
    "\\end{pmatrix}$$\n",
    "   \n",
    "вырожденная."
   ]
  },
  {
   "cell_type": "markdown",
   "metadata": {},
   "source": [
    "матрица вырожденная, если ее определитель равен 0\n",
    "Так как при прибавлении к строке другой строки, умноженной на число, определитель не меняется, мы можем осуществить некоторые преобразования для обнуления максимального количества элементов:\n",
    "\n",
    "- преобразуем вторую строку, прибавив к ней первую, умноженную на 2.\n",
    "\n",
    "Получим:\n",
    "$\\begin{pmatrix}\n",
    "-2 & 7 & -3\\\\ \n",
    "0 & 0 & 0\\\\ \n",
    "-3 & 7 & 13\n",
    "\\end{pmatrix}$\n",
    "$$\\begin{vmatrix}\n",
    "-2 & 7 & -3\\\\ \n",
    "0 & 0 & 0\\\\ \n",
    "-3 & 7 & 13\n",
    "\\end{vmatrix}=0\\cdot(-1)^{(1+1)}\\cdot\\begin{vmatrix}\n",
    "7 & -3 \\\\\n",
    "7 & 13 \\\\\n",
    "\\end{vmatrix}+0\\cdot(-1)^{(1+2)}\\cdot\\begin{vmatrix}\n",
    "-2 & -3 \\\\\n",
    "-3 & 13 \\\\\n",
    "\\end{vmatrix}+0\\cdot(-1)^{(1+3)}\\cdot\\begin{vmatrix}\n",
    "-2 & 7 \\\\\n",
    "-3 & 7 \\\\\n",
    "\\end{vmatrix}=0\n",
    "$$"
   ]
  },
  {
   "cell_type": "code",
   "execution_count": 61,
   "metadata": {},
   "outputs": [
    {
     "data": {
      "text/plain": [
       "0.0"
      ]
     },
     "execution_count": 61,
     "metadata": {},
     "output_type": "execute_result"
    }
   ],
   "source": [
    "np.linalg.det([[-2, 7, -3],\n",
    "               [4, -14, 6],\n",
    "               [-3, 7, 13]])"
   ]
  },
  {
   "cell_type": "markdown",
   "metadata": {},
   "source": [
    "__4.__ Найти ранг матрицы:\n",
    "\n",
    " а)  $ \\begin{pmatrix}\n",
    "1 & 2 & 3\\\\ \n",
    "1 & 1 & 1\\\\ \n",
    "2 & 3 & 4\n",
    "\\end{pmatrix};$\n",
    "третья строка является суммой первой и второй, ее можно отбросить:\n",
    "$$\\begin{pmatrix}\n",
    "1 & 2 & 3\\\\ \n",
    "1 & 1 & 1\n",
    "\\end{pmatrix}$$\n",
    "теперь все строки и стоблцы линейно независимы, то есть ранг матрицы равен 2"
   ]
  },
  {
   "cell_type": "code",
   "execution_count": 62,
   "metadata": {},
   "outputs": [
    {
     "data": {
      "text/plain": [
       "2"
      ]
     },
     "execution_count": 62,
     "metadata": {},
     "output_type": "execute_result"
    }
   ],
   "source": [
    "np.linalg.matrix_rank([[1, 2, 3],\n",
    "                       [1, 1, 1],\n",
    "                       [2, 3, 4]])"
   ]
  },
  {
   "cell_type": "markdown",
   "metadata": {},
   "source": [
    "   б) $\\begin{pmatrix}\n",
    "0 & 0 & 2 & 1\\\\ \n",
    "0 & 0 & 2 & 2\\\\ \n",
    "0 & 0 & 4 & 3\\\\ \n",
    "2 & 3 & 5 & 6\n",
    "\\end{pmatrix}.$ Третья строка является суммой первой и второй, ее можно отбросить:\n",
    "$\\begin{pmatrix}\n",
    "0 & 0 & 2 & 1\\\\ \n",
    "0 & 0 & 2 & 2\\\\ \n",
    "2 & 3 & 5 & 6\n",
    "\\end{pmatrix}$ теперь все строки и столбцы линейнонезависимы, то есть ранг матрицы равен 3"
   ]
  },
  {
   "cell_type": "code",
   "execution_count": 63,
   "metadata": {},
   "outputs": [
    {
     "data": {
      "text/plain": [
       "3"
      ]
     },
     "execution_count": 63,
     "metadata": {},
     "output_type": "execute_result"
    }
   ],
   "source": [
    "np.linalg.matrix_rank([[0, 0, 2, 1],\n",
    "                       [0, 0, 2, 2],\n",
    "                       [0, 0, 4, 3],\n",
    "                       [2, 3, 5, 6]])"
   ]
  },
  {
   "cell_type": "code",
   "execution_count": null,
   "metadata": {},
   "outputs": [],
   "source": []
  }
 ],
 "metadata": {
  "kernelspec": {
   "display_name": "Python 3",
   "language": "python",
   "name": "python3"
  },
  "language_info": {
   "codemirror_mode": {
    "name": "ipython",
    "version": 3
   },
   "file_extension": ".py",
   "mimetype": "text/x-python",
   "name": "python",
   "nbconvert_exporter": "python",
   "pygments_lexer": "ipython3",
   "version": "3.7.3"
  }
 },
 "nbformat": 4,
 "nbformat_minor": 2
}
