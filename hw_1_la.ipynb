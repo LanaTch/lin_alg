{
 "cells": [
  {
   "cell_type": "markdown",
   "metadata": {
    "colab_type": "text",
    "id": "aU5YNMH9kVqP"
   },
   "source": [
    "## Практическое задание 1"
   ]
  },
  {
   "cell_type": "markdown",
   "metadata": {
    "colab_type": "text",
    "id": "SmdURZ_OkVqQ"
   },
   "source": [
    "__1.__ Исследовать на линейную зависимость:\n",
    "$$f_{1}(x)=e^{x}, f_{2}(x)=1, f_{3}(x)=x+1, f_{4}(x)=x-e^{x}.$$"
   ]
  },
  {
   "cell_type": "markdown",
   "metadata": {
    "colab_type": "text",
    "id": "UlCV60j8kVqM"
   },
   "source": [
    "__Решение__\n",
    "\n",
    "Заметим, что $e^{x} = (x+1)-(x-e^{x})-1$, т е $f_{1}(x)=f_{3}(x)-f_{4}(x)-f_{2}(x)$, то есть вектор $f_{1}(x)$ — линейная комбинация векторов $f_{2}(x)$, $f_{3}(x)$ и $f_{4}(x)$, из чего можно сделать вывод, что $f_{1}(x)$, $f_{2}(x)$, $f_{3}(x)$ и $f_{4}(x)$ линейно зависимы."
   ]
  },
  {
   "cell_type": "markdown",
   "metadata": {
    "colab_type": "text",
    "id": "cECfCSANkVqR"
   },
   "source": [
    "__2.__ Исследовать на линейную зависимость:\n",
    "$$f_{1}(x)=2, f_{2}(x)=x, f_{3}(x)=x^{2}, f_{4}(x)=(x+1)^{2}.$$"
   ]
  },
  {
   "cell_type": "markdown",
   "metadata": {
    "colab_type": "text",
    "id": "UlCV60j8kVqM"
   },
   "source": [
    "__Решение__\n",
    "\n",
    "Заметим, что $(x+1)^{2} = x^{2}+2x+1$, т е $f_{4}(x)=f_{3}(x)+2f_{2}(x)+0.5f_{1}(x)$, то есть вектор $f_{4}(x)$ — линейная комбинация векторов $f_{2}(x)$, $f_{3}(x)$ и $f_{1}(x)$, из чего можно сделать вывод, что $f_{1}(x)$, $f_{2}(x)$, $f_{3}(x)$ и $f_{4}(x)$ линейно зависимы."
   ]
  },
  {
   "cell_type": "markdown",
   "metadata": {
    "colab_type": "text",
    "id": "DFrjdtbHkVqS"
   },
   "source": [
    "__3.__ Найти координаты вектора $x = (2, 3, 5)\\in \\mathbb{R}^{3}$ в базисе $b_{1}=(0, 0, 10)$, $b_{2}=(2, 0, 0)$, $b_{3}=(0, 1, 0)$."
   ]
  },
  {
   "cell_type": "markdown",
   "metadata": {
    "colab_type": "text",
    "id": "DkGHOBdkkVqO"
   },
   "source": [
    "__Решение__\n",
    "\n",
    "$$x=(2, 3, 5)=(2,0,0)+(0, 3, 0)+(0, 0, 5)=1\\cdot(2, 0, 0)+3\\cdot(0, 1, 0)+0.5\\cdot(0, 0, 10)=b_{2}+3b_{3}+0.5b_{1},$$\n",
    "\n",
    "\n",
    "то есть координатами вектора $x$ в базисе $(b_{1},b_{2},b_{3})$ являются $0.5$, $1$, $3$."
   ]
  },
  {
   "cell_type": "markdown",
   "metadata": {
    "colab_type": "text",
    "id": "5la-eVLukVqT"
   },
   "source": [
    "__4.__ Найти координаты вектора $3x^{2}-2x+2\\in\\mathbb{R}^{3}[x]$:\n",
    "\n",
    "   а) в базисе $1$, $x$, $x^{2}$;"
   ]
  },
  {
   "cell_type": "markdown",
   "metadata": {
    "colab_type": "text",
    "id": "DkGHOBdkkVqO"
   },
   "source": [
    "__Решение__\n",
    "\n",
    "базис $a_{1}=1, a_{2}=x, a_{3}=x^{2}$\n",
    "$$3x^{2}-2x+2=3a_{3}-2a_{2}+2a_{1}$$\n",
    "\n",
    "то есть координатами вектора $x$ в базисе $(a_{1},a_{2},a_{3})$ являются $2$, $-2$, $3$."
   ]
  },
  {
   "cell_type": "markdown",
   "metadata": {},
   "source": [
    "б) в базисе $x^{2}$, $x-1$, $1$."
   ]
  },
  {
   "cell_type": "markdown",
   "metadata": {},
   "source": [
    "__Решение__\n",
    "\n",
    "базис $b_{1}=x^{2}, b_{2}=x-1, b_{3}=1$\n",
    "$$3x^{2}-2x+2=3b_{1}-2b_{2}+0b_{3}$$\n",
    "\n",
    "то есть координатами вектора $x$ в базисе $(b_{1},b_{2},b_{3})$ являются $3$, $-2$, $0$."
   ]
  },
  {
   "cell_type": "markdown",
   "metadata": {
    "colab_type": "text",
    "id": "kQlell_GkVqU"
   },
   "source": [
    "__5.__ Установить, является ли линейным подпространством:\n",
    "\n",
    "а) совокупность всех векторов трехмерного пространства, у которых по крайней мере одна из первых двух координат равна нулю;"
   ]
  },
  {
   "cell_type": "markdown",
   "metadata": {},
   "source": [
    "__Решение__\n",
    "Проведя проверку по приведенному утверждению, мы увидим, что, например\n",
    "\n",
    "$$(0, a, b)+(c, 0, d) = (c, a, b+d)$$\n",
    "\n",
    "Полученный вектор уже не принадлежат указанному в задании множеству векторов, то есть данное множество не является линейным подпространством."
   ]
  },
  {
   "cell_type": "markdown",
   "metadata": {},
   "source": [
    "б) все векторы, являющиеся линейными комбинациями данных векторов $\\{u_{1}, u_{2}, ..., u_{n}\\}$."
   ]
  },
  {
   "cell_type": "markdown",
   "metadata": {},
   "source": [
    "__Решение__\n",
    "Т к исходное множество векторов является множетвом линейных комбинаций $\\{u_{1}, u_{2}, ..., u_{n}\\}$, то и любая линейная комбинация векторов такого множества так же будет и линейной комбинацией векторов $\\{u_{1}, u_{2}, ..., u_{n}\\}$, а значит данное множетво является линейным подпространством."
   ]
  },
  {
   "cell_type": "markdown",
   "metadata": {
    "colab_type": "text",
    "id": "rnPVQP84c7cu"
   },
   "source": [
    "## Практическое задание 2"
   ]
  },
  {
   "cell_type": "markdown",
   "metadata": {
    "colab_type": "text",
    "id": "81d4BnNXc7cy"
   },
   "source": [
    "__1.__ Найти скалярное произведение векторов $x, y \\in \\mathbb{R}$:<br>\n",
    "а) $x=(0,-3, 6),~y=(-4, 7, 9);$<br>"
   ]
  },
  {
   "cell_type": "code",
   "execution_count": 6,
   "metadata": {},
   "outputs": [
    {
     "name": "stdout",
     "output_type": "stream",
     "text": [
      "Скалярное произведение x и y = 21\n"
     ]
    }
   ],
   "source": [
    "import numpy as np\n",
    "\n",
    "x = np.array([0, -3, 6])\n",
    "y = np.array([4, 5, 6])\n",
    "print(f'Скалярное произведение x и y = {np.dot(x, y)}')"
   ]
  },
  {
   "cell_type": "markdown",
   "metadata": {},
   "source": [
    "б) $x=(7, -4, 0, 1),~y=(-3, 1, 11, 2).$"
   ]
  },
  {
   "cell_type": "code",
   "execution_count": 5,
   "metadata": {},
   "outputs": [
    {
     "name": "stdout",
     "output_type": "stream",
     "text": [
      "Скалярное произведение x и y = -23\n"
     ]
    }
   ],
   "source": [
    "x = np.array([7, -4, 0, 1])\n",
    "y = np.array([-3, 1, 11, 2])\n",
    "print(f'Скалярное произведение x и y = {np.dot(x, y)}')"
   ]
  },
  {
   "cell_type": "markdown",
   "metadata": {},
   "source": [
    "__2.__ Найти нормы векторов $(4, 2, 4)$ и $(12, 3, 4)$ и угол между ними."
   ]
  },
  {
   "cell_type": "code",
   "execution_count": 8,
   "metadata": {},
   "outputs": [
    {
     "name": "stdout",
     "output_type": "stream",
     "text": [
      "l1 норма вектора a = 10.0\n",
      "l2 норма вектора a = 6.0\n",
      "l1 норма вектора b = 19.0\n",
      "l2 норма вектора b = 13.0\n",
      "Косинус угла между a и b: 0.90\n",
      "Угол между a и b: 0.46\n"
     ]
    }
   ],
   "source": [
    "from numpy.linalg import norm\n",
    "\n",
    "a = np.array([4, 2, 4])\n",
    "b = np.array([12, 3, 4])\n",
    "\n",
    "print(f'l1 норма вектора a = {norm(a, ord=1)}')\n",
    "print(f'l2 норма вектора a = {norm(a, ord=2)}')\n",
    "\n",
    "print(f'l1 норма вектора b = {norm(b, ord=1)}')\n",
    "print(f'l2 норма вектора b = {norm(b, ord=2)}')\n",
    "\n",
    "cos_phi = np.dot(a, b) / norm(a) / norm(b)\n",
    "print(f'Косинус угла между a и b: {cos_phi:.2f}')\n",
    "print(f'Угол между a и b: {np.arccos(cos_phi):.2f}')"
   ]
  },
  {
   "cell_type": "markdown",
   "metadata": {},
   "source": [
    "__3.__ Будет ли линейное пространство евклидовым, если за скалярное произведение принять:<br>\n",
    "а) произведение длин векторов?<br>"
   ]
  },
  {
   "cell_type": "markdown",
   "metadata": {},
   "source": [
    "Линейное пространство над полем вещественных чисел называется _евклидовым пространством_, если на нем введено правило, согласно которому каждой упорядоченной паре векторов $x$ и $y$ поставлено в соответствие вещественное число, называемое _скалярным произведением_ и обозначаемое символом $(x, y)$.\n",
    "\n",
    "При этом указанное правило должно подчиняться четырем аксиомам:<br>\n",
    "1) $(x,y)=(y,x);$<br>\n",
    "2) $(\\lambda x, y)=\\lambda(x, y);$<br>\n",
    "3) $(x_{1}+x_{2},y)=(x_{1},y)+(x_{2},y);$<br>\n",
    "4) $(x, x)\\geq0$, причем $(x,x)=0\\Leftrightarrow x=0.$"
   ]
  },
  {
   "cell_type": "markdown",
   "metadata": {},
   "source": [
    "т е для проверки утверждения необходимо проверить удовлетворяет ли такое скалярное призведение аксиомам:<br>\n",
    "1) $\\left|x\\right|\\cdot\\left|y\\right|=\\left|y\\right|\\cdot\\left|x\\right|$<br>\n",
    "2) $\\left|\\lambda x\\right|\\cdot\\left|y\\right|=\\lambda\\cdot \\left|x\\right|\\cdot\\left|y\\right|;$<br>\n",
    "3) $\\left|x_{1}+x_{2}\\right|\\cdot\\left|y\\right|\\neq\\left|x_{1}\\right|\\cdot\\left|y\\right|+\\left|x_{2}\\right|\\cdot\\left|y\\right|;$<br>\n",
    "4) $\\left|x\\right|\\cdot\\left|x\\right|\\geq0$, причем $\\left|x\\right|\\cdot\\left|x\\right|=0\\Leftrightarrow x=0.$\n",
    "\n",
    "не все аксиомы верны, значит при таком определении скалярного произведения, линейное пространство не будет евклидовым"
   ]
  },
  {
   "cell_type": "markdown",
   "metadata": {},
   "source": [
    "б) утроенное обычное скалярное произведение векторов?"
   ]
  },
  {
   "cell_type": "markdown",
   "metadata": {},
   "source": [
    "проверяем удовлетворяет ли такое скалярное призведение аксиомам:<br>\n",
    "1) $3\\cdot\\left|x\\right|\\cdot\\left|y\\right|\\cdot cos\\alpha=3\\cdot\\left|y\\right|\\cdot\\left|x\\right|\\cdot cos\\alpha$<br>\n",
    "2) $3\\cdot\\left|\\lambda x\\right|\\cdot\\left|y\\right|cos\\alpha=3\\cdot\\lambda\\cdot \\left|x\\right|\\cdot\\left|y\\right|cos\\alpha;$<br>\n",
    "3) $3\\cdot\\left|x_{1}+x_{2}\\right|\\cdot\\left|y\\right|cos\\alpha\\neq3\\cdot\\left|x_{1}\\right|\\cdot\\left|y\\right|cos\\alpha_{1}+3\\cdot\\left|x_{2}\\right|\\cdot\\left|y\\right|cos\\alpha_2;$<br>\n",
    "4) $3\\cdot\\left|x\\right|\\cdot\\left|x\\right|cos\\alpha\\geq0$, причем $3\\cdot\\left|x\\right|\\cdot\\left|x\\right|cos\\alpha=0\\Leftrightarrow x=0.$\n",
    "\n",
    "не все аксиомы верны, значит при таком определении скалярного произведения, линейное пространство не будет евклидовым"
   ]
  },
  {
   "cell_type": "markdown",
   "metadata": {},
   "source": [
    "__4.__ Какие из нижеперечисленных векторов образуют ортонормированный базис в линейном пространстве $\\mathbb{R}^{3}$<br>"
   ]
  },
  {
   "cell_type": "markdown",
   "metadata": {},
   "source": [
    "Всякое евклидово пространство является нормированным, если норму любого элемента $x$ в нем определить как\n",
    "\n",
    "$$\\left\\|x\\right\\| = \\sqrt{(x,x)}.$$\n",
    "Два произвольных элемента $x$ и $y$ евклидова пространства $E$ называются _ортогональными_, если их скалярное произведение равно нулю (в этом случае косинус угла $\\varphi$ между этими элементами будет равен нулю)."
   ]
  },
  {
   "cell_type": "markdown",
   "metadata": {},
   "source": [
    "следовательно, вектора ортонормированы, если выполнены оба эти условия."
   ]
  },
  {
   "cell_type": "code",
   "execution_count": 27,
   "metadata": {},
   "outputs": [],
   "source": [
    "def is_orthonorm_vecs2(a, b):\n",
    "    norm_a = norm(a)\n",
    "    print(f'norm a = {norm_a}')\n",
    "    sqrt_aa = np.sqrt(np.dot(a, a))\n",
    "    print(f'sqrt scalar a*a = {sqrt_aa}')\n",
    "    norm_b = norm(b)\n",
    "    print(f'norm b = {norm_b}')\n",
    "    sqrt_bb = np.sqrt(np.dot(b, b))\n",
    "    print(f'sqrt scalar b*b = {sqrt_bb}')\n",
    "    cos_phi = np.dot(a, b) / norm_a / norm_b\n",
    "    print(f'cos_phi = {cos_phi}')\n",
    "    return True if (norm_a == sqrt_aa)&(norm_b == sqrt_bb)&(cos_phi == 0) else False\n",
    "\n",
    "def is_orthonorm_vecs3(a, b, c):\n",
    "    norm_a = norm(a)\n",
    "    print(f'norm a = {norm_a}')\n",
    "    sqrt_aa = np.sqrt(np.dot(a, a))\n",
    "    print(f'sqrt scalar a*a = {sqrt_aa}')\n",
    "    norm_b = norm(b)\n",
    "    print(f'norm b = {norm_b}')\n",
    "    sqrt_bb = np.sqrt(np.dot(b, b))\n",
    "    print(f'sqrt scalar b*b = {sqrt_bb}')\n",
    "    norm_c = norm(c)\n",
    "    print(f'norm c = {norm_c}')\n",
    "    sqrt_cc = np.sqrt(np.dot(c, c))\n",
    "    print(f'sqrt scalar c*c = {sqrt_cc}')\n",
    "    cos_phi1 = np.dot(a, b) / norm_a / norm_b\n",
    "    print(f'cos_phi1 = {cos_phi1}')\n",
    "    cos_phi2 = np.dot(a, c) / norm_a / norm_c\n",
    "    print(f'cos_phi2 = {cos_phi2}')\n",
    "    cos_phi3 = np.dot(c, b) / norm_c / norm_b\n",
    "    print(f'cos_phi3 = {cos_phi3}')\n",
    "    return True if (norm_a == sqrt_aa)&(norm_b == sqrt_bb)&(norm_c == sqrt_cc)&(cos_phi1 == 0)&(cos_phi2 == 0)&(cos_phi3 == 0) else False"
   ]
  },
  {
   "cell_type": "markdown",
   "metadata": {},
   "source": [
    "а) $(1,0,0),(0,0,1);$ <br>"
   ]
  },
  {
   "cell_type": "code",
   "execution_count": 28,
   "metadata": {},
   "outputs": [
    {
     "name": "stdout",
     "output_type": "stream",
     "text": [
      "norm a = 1.0\n",
      "sqrt scalar a*a = 1.0\n",
      "norm b = 1.0\n",
      "sqrt scalar b*b = 1.0\n",
      "cos_phi = 0.0\n",
      "базис ортонормированный\n"
     ]
    }
   ],
   "source": [
    "print('базис ортонормированный' if is_orthonorm_vecs2([1,0,0], [0,0,1]) else 'базис не ортонормированный')"
   ]
  },
  {
   "cell_type": "markdown",
   "metadata": {},
   "source": [
    "б) $(1/\\sqrt{2},-1/\\sqrt{2},0),(1/\\sqrt{2},1/\\sqrt{2},0), (0,0,1);$<br>"
   ]
  },
  {
   "cell_type": "code",
   "execution_count": 29,
   "metadata": {},
   "outputs": [
    {
     "name": "stdout",
     "output_type": "stream",
     "text": [
      "norm a = 0.9999999999999999\n",
      "sqrt scalar a*a = 0.9999999999999999\n",
      "norm b = 0.9999999999999999\n",
      "sqrt scalar b*b = 0.9999999999999999\n",
      "norm c = 1.0\n",
      "sqrt scalar c*c = 1.0\n",
      "cos_phi1 = 0.0\n",
      "cos_phi2 = 0.0\n",
      "cos_phi3 = 0.0\n",
      "базис ортонормированный\n"
     ]
    }
   ],
   "source": [
    "print('базис ортонормированный' if is_orthonorm_vecs3([1/np.sqrt(2), -1/np.sqrt(2), 0], [1/np.sqrt(2), 1/np.sqrt(2), 0], [0,0,1]) else 'базис не ортонормированный')"
   ]
  },
  {
   "cell_type": "markdown",
   "metadata": {},
   "source": [
    "в) $(1/2, -1/2, 0), (0, 1/2, 1/2), (0,0,1);$<br>"
   ]
  },
  {
   "cell_type": "code",
   "execution_count": 30,
   "metadata": {},
   "outputs": [
    {
     "name": "stdout",
     "output_type": "stream",
     "text": [
      "norm a = 0.7071067811865476\n",
      "sqrt scalar a*a = 0.7071067811865476\n",
      "norm b = 0.7071067811865476\n",
      "sqrt scalar b*b = 0.7071067811865476\n",
      "norm c = 1.0\n",
      "sqrt scalar c*c = 1.0\n",
      "cos_phi1 = -0.49999999999999994\n",
      "cos_phi2 = 0.0\n",
      "cos_phi3 = 0.7071067811865475\n",
      "базис не ортонормированный\n"
     ]
    }
   ],
   "source": [
    "print('базис ортонормированный' if is_orthonorm_vecs3([1/2, -1/2, 0], [0, 1/2, 1/2], [0, 0, 1]) else 'базис не ортонормированный')"
   ]
  },
  {
   "cell_type": "markdown",
   "metadata": {},
   "source": [
    "г) $(1,0,0),(0,1,0),(0,0,1)?$ "
   ]
  },
  {
   "cell_type": "code",
   "execution_count": 31,
   "metadata": {},
   "outputs": [
    {
     "name": "stdout",
     "output_type": "stream",
     "text": [
      "norm a = 1.0\n",
      "sqrt scalar a*a = 1.0\n",
      "norm b = 1.0\n",
      "sqrt scalar b*b = 1.0\n",
      "norm c = 1.0\n",
      "sqrt scalar c*c = 1.0\n",
      "cos_phi1 = 0.0\n",
      "cos_phi2 = 0.0\n",
      "cos_phi3 = 0.0\n",
      "базис ортонормированный\n"
     ]
    }
   ],
   "source": [
    "print('базис ортонормированный' if is_orthonorm_vecs3([1, 0, 0], [0, 1, 0], [0, 0, 1]) else 'базис не ортонормированный')"
   ]
  },
  {
   "cell_type": "code",
   "execution_count": null,
   "metadata": {},
   "outputs": [],
   "source": []
  }
 ],
 "metadata": {
  "kernelspec": {
   "display_name": "Python 3",
   "language": "python",
   "name": "python3"
  },
  "language_info": {
   "codemirror_mode": {
    "name": "ipython",
    "version": 3
   },
   "file_extension": ".py",
   "mimetype": "text/x-python",
   "name": "python",
   "nbconvert_exporter": "python",
   "pygments_lexer": "ipython3",
   "version": "3.7.3"
  }
 },
 "nbformat": 4,
 "nbformat_minor": 2
}
